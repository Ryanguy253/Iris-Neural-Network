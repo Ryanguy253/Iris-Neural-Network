{
 "cells": [
  {
   "cell_type": "code",
   "execution_count": 2,
   "id": "34e3c0e2-1a19-42df-aaea-07c0a19dc38a",
   "metadata": {},
   "outputs": [],
   "source": [
    "import torch\n",
    "import torch.nn as nn\n",
    "import torch.nn.functional as F"
   ]
  },
  {
   "cell_type": "code",
   "execution_count": 3,
   "id": "b7da8a80-2eef-4664-8a8f-39eafadea733",
   "metadata": {},
   "outputs": [],
   "source": [
    "# Create a model calss that inherits nn.module\n",
    "\n",
    "class Model(nn.Module):\n",
    "    # Input layer(4 features of flower) --> hidden layer1( number of neurons ) --> H2(n) --> output(3 types of flowers)\n",
    "    def __init__(self,in_features=4,h1=8,h2=9,out_features=3):\n",
    "        super().__init__() # Instanciate the NN module\n",
    "        self.fc1 = nn.Linear(in_features,h1)\n",
    "        self.fc2 = nn.Linear(h1,h2)\n",
    "        self.out = nn.Linear(h2,out_features)\n",
    "\n",
    "    def forward(self, x):\n",
    "        x = F.relu(self.fc1(x))\n",
    "        x = F.relu(self.fc2(x))\n",
    "        x = F.relu(self.out(x))\n",
    "\n",
    "        return x"
   ]
  },
  {
   "cell_type": "code",
   "execution_count": 4,
   "id": "da9b400f-69a3-40d9-86a1-0dec707dfbdb",
   "metadata": {},
   "outputs": [],
   "source": [
    "# Pick a manual seed for randomization\n",
    "torch.manual_seed(41)\n",
    "# Create an instance of model\n",
    "model = Model()"
   ]
  },
  {
   "cell_type": "code",
   "execution_count": 5,
   "id": "2a3d3af0-6b23-4da0-a24a-b0e858f1c4df",
   "metadata": {},
   "outputs": [],
   "source": [
    "import matplotlib.pyplot as plt\n",
    "%matplotlib inline"
   ]
  },
  {
   "cell_type": "code",
   "execution_count": 6,
   "id": "48dc5645-7d18-4ffe-ae2a-46d0c8cc43e4",
   "metadata": {},
   "outputs": [],
   "source": [
    "import pandas as pd"
   ]
  },
  {
   "cell_type": "code",
   "execution_count": 7,
   "id": "ebc80489-5c20-43ec-955c-c7113cba49ba",
   "metadata": {},
   "outputs": [],
   "source": [
    "url = 'https://gist.githubusercontent.com/netj/8836201/raw/6f9306ad21398ea43cba4f7d537619d0e07d5ae3/iris.csv'\n",
    "my_df = pd.read_csv(url)"
   ]
  },
  {
   "cell_type": "code",
   "execution_count": 8,
   "id": "f83b1882-0d43-43ab-accf-77f0a7b92b87",
   "metadata": {},
   "outputs": [
    {
     "data": {
      "text/html": [
       "<div>\n",
       "<style scoped>\n",
       "    .dataframe tbody tr th:only-of-type {\n",
       "        vertical-align: middle;\n",
       "    }\n",
       "\n",
       "    .dataframe tbody tr th {\n",
       "        vertical-align: top;\n",
       "    }\n",
       "\n",
       "    .dataframe thead th {\n",
       "        text-align: right;\n",
       "    }\n",
       "</style>\n",
       "<table border=\"1\" class=\"dataframe\">\n",
       "  <thead>\n",
       "    <tr style=\"text-align: right;\">\n",
       "      <th></th>\n",
       "      <th>sepal.length</th>\n",
       "      <th>sepal.width</th>\n",
       "      <th>petal.length</th>\n",
       "      <th>petal.width</th>\n",
       "      <th>variety</th>\n",
       "    </tr>\n",
       "  </thead>\n",
       "  <tbody>\n",
       "    <tr>\n",
       "      <th>0</th>\n",
       "      <td>5.1</td>\n",
       "      <td>3.5</td>\n",
       "      <td>1.4</td>\n",
       "      <td>0.2</td>\n",
       "      <td>Setosa</td>\n",
       "    </tr>\n",
       "    <tr>\n",
       "      <th>1</th>\n",
       "      <td>4.9</td>\n",
       "      <td>3.0</td>\n",
       "      <td>1.4</td>\n",
       "      <td>0.2</td>\n",
       "      <td>Setosa</td>\n",
       "    </tr>\n",
       "    <tr>\n",
       "      <th>2</th>\n",
       "      <td>4.7</td>\n",
       "      <td>3.2</td>\n",
       "      <td>1.3</td>\n",
       "      <td>0.2</td>\n",
       "      <td>Setosa</td>\n",
       "    </tr>\n",
       "    <tr>\n",
       "      <th>3</th>\n",
       "      <td>4.6</td>\n",
       "      <td>3.1</td>\n",
       "      <td>1.5</td>\n",
       "      <td>0.2</td>\n",
       "      <td>Setosa</td>\n",
       "    </tr>\n",
       "    <tr>\n",
       "      <th>4</th>\n",
       "      <td>5.0</td>\n",
       "      <td>3.6</td>\n",
       "      <td>1.4</td>\n",
       "      <td>0.2</td>\n",
       "      <td>Setosa</td>\n",
       "    </tr>\n",
       "  </tbody>\n",
       "</table>\n",
       "</div>"
      ],
      "text/plain": [
       "   sepal.length  sepal.width  petal.length  petal.width variety\n",
       "0           5.1          3.5           1.4          0.2  Setosa\n",
       "1           4.9          3.0           1.4          0.2  Setosa\n",
       "2           4.7          3.2           1.3          0.2  Setosa\n",
       "3           4.6          3.1           1.5          0.2  Setosa\n",
       "4           5.0          3.6           1.4          0.2  Setosa"
      ]
     },
     "execution_count": 8,
     "metadata": {},
     "output_type": "execute_result"
    }
   ],
   "source": [
    "my_df.head()"
   ]
  },
  {
   "cell_type": "code",
   "execution_count": 9,
   "id": "e981bfce-7929-484a-a9f0-b7787e2685fd",
   "metadata": {},
   "outputs": [
    {
     "name": "stderr",
     "output_type": "stream",
     "text": [
      "C:\\Users\\Ryanu\\AppData\\Local\\Temp\\ipykernel_35184\\4200526655.py:4: FutureWarning: Downcasting behavior in `replace` is deprecated and will be removed in a future version. To retain the old behavior, explicitly call `result.infer_objects(copy=False)`. To opt-in to the future behavior, set `pd.set_option('future.no_silent_downcasting', True)`\n",
      "  my_df['variety'] = my_df['variety'].replace('Virginica',2.0)\n"
     ]
    }
   ],
   "source": [
    "# Change last column from string to int\n",
    "my_df['variety'] = my_df['variety'].replace('Setosa',0.0)\n",
    "my_df['variety'] = my_df['variety'].replace('Versicolor',1.0)\n",
    "my_df['variety'] = my_df['variety'].replace('Virginica',2.0)"
   ]
  },
  {
   "cell_type": "code",
   "execution_count": 10,
   "id": "f86741e9-b1c5-4c10-bb8e-2b2af04b9109",
   "metadata": {},
   "outputs": [
    {
     "data": {
      "text/html": [
       "<div>\n",
       "<style scoped>\n",
       "    .dataframe tbody tr th:only-of-type {\n",
       "        vertical-align: middle;\n",
       "    }\n",
       "\n",
       "    .dataframe tbody tr th {\n",
       "        vertical-align: top;\n",
       "    }\n",
       "\n",
       "    .dataframe thead th {\n",
       "        text-align: right;\n",
       "    }\n",
       "</style>\n",
       "<table border=\"1\" class=\"dataframe\">\n",
       "  <thead>\n",
       "    <tr style=\"text-align: right;\">\n",
       "      <th></th>\n",
       "      <th>sepal.length</th>\n",
       "      <th>sepal.width</th>\n",
       "      <th>petal.length</th>\n",
       "      <th>petal.width</th>\n",
       "      <th>variety</th>\n",
       "    </tr>\n",
       "  </thead>\n",
       "  <tbody>\n",
       "    <tr>\n",
       "      <th>0</th>\n",
       "      <td>5.1</td>\n",
       "      <td>3.5</td>\n",
       "      <td>1.4</td>\n",
       "      <td>0.2</td>\n",
       "      <td>0.0</td>\n",
       "    </tr>\n",
       "    <tr>\n",
       "      <th>1</th>\n",
       "      <td>4.9</td>\n",
       "      <td>3.0</td>\n",
       "      <td>1.4</td>\n",
       "      <td>0.2</td>\n",
       "      <td>0.0</td>\n",
       "    </tr>\n",
       "    <tr>\n",
       "      <th>2</th>\n",
       "      <td>4.7</td>\n",
       "      <td>3.2</td>\n",
       "      <td>1.3</td>\n",
       "      <td>0.2</td>\n",
       "      <td>0.0</td>\n",
       "    </tr>\n",
       "    <tr>\n",
       "      <th>3</th>\n",
       "      <td>4.6</td>\n",
       "      <td>3.1</td>\n",
       "      <td>1.5</td>\n",
       "      <td>0.2</td>\n",
       "      <td>0.0</td>\n",
       "    </tr>\n",
       "    <tr>\n",
       "      <th>4</th>\n",
       "      <td>5.0</td>\n",
       "      <td>3.6</td>\n",
       "      <td>1.4</td>\n",
       "      <td>0.2</td>\n",
       "      <td>0.0</td>\n",
       "    </tr>\n",
       "    <tr>\n",
       "      <th>...</th>\n",
       "      <td>...</td>\n",
       "      <td>...</td>\n",
       "      <td>...</td>\n",
       "      <td>...</td>\n",
       "      <td>...</td>\n",
       "    </tr>\n",
       "    <tr>\n",
       "      <th>145</th>\n",
       "      <td>6.7</td>\n",
       "      <td>3.0</td>\n",
       "      <td>5.2</td>\n",
       "      <td>2.3</td>\n",
       "      <td>2.0</td>\n",
       "    </tr>\n",
       "    <tr>\n",
       "      <th>146</th>\n",
       "      <td>6.3</td>\n",
       "      <td>2.5</td>\n",
       "      <td>5.0</td>\n",
       "      <td>1.9</td>\n",
       "      <td>2.0</td>\n",
       "    </tr>\n",
       "    <tr>\n",
       "      <th>147</th>\n",
       "      <td>6.5</td>\n",
       "      <td>3.0</td>\n",
       "      <td>5.2</td>\n",
       "      <td>2.0</td>\n",
       "      <td>2.0</td>\n",
       "    </tr>\n",
       "    <tr>\n",
       "      <th>148</th>\n",
       "      <td>6.2</td>\n",
       "      <td>3.4</td>\n",
       "      <td>5.4</td>\n",
       "      <td>2.3</td>\n",
       "      <td>2.0</td>\n",
       "    </tr>\n",
       "    <tr>\n",
       "      <th>149</th>\n",
       "      <td>5.9</td>\n",
       "      <td>3.0</td>\n",
       "      <td>5.1</td>\n",
       "      <td>1.8</td>\n",
       "      <td>2.0</td>\n",
       "    </tr>\n",
       "  </tbody>\n",
       "</table>\n",
       "<p>150 rows × 5 columns</p>\n",
       "</div>"
      ],
      "text/plain": [
       "     sepal.length  sepal.width  petal.length  petal.width  variety\n",
       "0             5.1          3.5           1.4          0.2      0.0\n",
       "1             4.9          3.0           1.4          0.2      0.0\n",
       "2             4.7          3.2           1.3          0.2      0.0\n",
       "3             4.6          3.1           1.5          0.2      0.0\n",
       "4             5.0          3.6           1.4          0.2      0.0\n",
       "..            ...          ...           ...          ...      ...\n",
       "145           6.7          3.0           5.2          2.3      2.0\n",
       "146           6.3          2.5           5.0          1.9      2.0\n",
       "147           6.5          3.0           5.2          2.0      2.0\n",
       "148           6.2          3.4           5.4          2.3      2.0\n",
       "149           5.9          3.0           5.1          1.8      2.0\n",
       "\n",
       "[150 rows x 5 columns]"
      ]
     },
     "execution_count": 10,
     "metadata": {},
     "output_type": "execute_result"
    }
   ],
   "source": [
    "my_df"
   ]
  },
  {
   "cell_type": "code",
   "execution_count": 11,
   "id": "ef4f4b07-9fca-4880-8143-2e5aced5ccd5",
   "metadata": {},
   "outputs": [],
   "source": [
    "# Train Test Split Set X,Y\n",
    "\n",
    "X = my_df.drop('variety',axis=1)\n",
    "Y = my_df['variety']"
   ]
  },
  {
   "cell_type": "code",
   "execution_count": 12,
   "id": "039c46a4-5636-4e95-ae2c-8c368a93a518",
   "metadata": {},
   "outputs": [],
   "source": [
    "# Convert to numpy array\n",
    "\n",
    "X = X.values\n",
    "Y = Y.values"
   ]
  },
  {
   "cell_type": "code",
   "execution_count": 13,
   "id": "e25d7f4a-9eae-42f1-a124-4de1e6161d95",
   "metadata": {},
   "outputs": [],
   "source": [
    "from sklearn.model_selection import train_test_split"
   ]
  },
  {
   "cell_type": "code",
   "execution_count": 14,
   "id": "9a958443-8da2-49bc-b626-447ff72cfcd1",
   "metadata": {},
   "outputs": [],
   "source": [
    "# Train test split\n",
    "X_train,X_test,y_train,y_test = train_test_split(X,Y,test_size=0.2, random_state=41)"
   ]
  },
  {
   "cell_type": "code",
   "execution_count": 15,
   "id": "2ff64758-2ec0-4a5c-9aab-8dcc3a48c252",
   "metadata": {},
   "outputs": [],
   "source": [
    "# Convert X features to float tensors\n",
    "\n",
    "X_train = torch.FloatTensor(X_train)\n",
    "X_test = torch.FloatTensor(X_test)"
   ]
  },
  {
   "cell_type": "code",
   "execution_count": 16,
   "id": "7fd831b8-d74e-4f3e-84ba-fa9e92cbaaab",
   "metadata": {},
   "outputs": [],
   "source": [
    "# Convert y labels to tensors long\n",
    "y_train = torch.LongTensor(y_train)\n",
    "y_test = torch.LongTensor(y_test)"
   ]
  },
  {
   "cell_type": "code",
   "execution_count": 17,
   "id": "52e1640d-99f3-4f83-8dbf-e10a55c20908",
   "metadata": {},
   "outputs": [],
   "source": [
    "# Set criterion of model to measure the error, how far off the predictions are from the data\n",
    "\n",
    "criterion = nn.CrossEntropyLoss()\n",
    "# Choose Adam Optimizer, lr = learning rate(if eror doesn't go down after a bunch of iteratinos (epochs),lower our learning rate)\n",
    "optimizer = torch.optim.Adam(model.parameters(),lr=0.01)"
   ]
  },
  {
   "cell_type": "code",
   "execution_count": 18,
   "id": "386aed37-4086-4ce6-8557-b14df456e872",
   "metadata": {},
   "outputs": [
    {
     "data": {
      "text/plain": [
       "<bound method Module.parameters of Model(\n",
       "  (fc1): Linear(in_features=4, out_features=8, bias=True)\n",
       "  (fc2): Linear(in_features=8, out_features=9, bias=True)\n",
       "  (out): Linear(in_features=9, out_features=3, bias=True)\n",
       ")>"
      ]
     },
     "execution_count": 18,
     "metadata": {},
     "output_type": "execute_result"
    }
   ],
   "source": [
    "model.parameters"
   ]
  },
  {
   "cell_type": "code",
   "execution_count": 19,
   "id": "860efc67-1c3c-47ed-8561-963441668063",
   "metadata": {},
   "outputs": [
    {
     "name": "stdout",
     "output_type": "stream",
     "text": [
      "Epoch : 0, Loss : 1.125203251838684\n",
      "Epoch : 10, Loss : 1.0097211599349976\n",
      "Epoch : 20, Loss : 0.8516880869865417\n",
      "Epoch : 30, Loss : 0.6555684804916382\n",
      "Epoch : 40, Loss : 0.45029523968696594\n",
      "Epoch : 50, Loss : 0.27184727787971497\n",
      "Epoch : 60, Loss : 0.15538781881332397\n",
      "Epoch : 70, Loss : 0.0933627262711525\n",
      "Epoch : 80, Loss : 0.06463462114334106\n",
      "Epoch : 90, Loss : 0.05066271498799324\n"
     ]
    }
   ],
   "source": [
    "# Train our model\n",
    "# Determine our epochs (one run thru all the training data in our network)\n",
    "epochs = 100\n",
    "losses = []\n",
    "\n",
    "for i in range(epochs):\n",
    "    # Go Forward and get a prediction\n",
    "    y_pred = model.forward(X_train) # get predicted results\n",
    "\n",
    "    #Measure loss/error going to be high at first\n",
    "    loss = criterion(y_pred,y_train) # Pred values vs Y_train\n",
    "\n",
    "    #Keep traick of losses\n",
    "    losses.append(loss.detach().numpy())\n",
    "\n",
    "    # Print every 10 epoch\n",
    "    if i % 10 ==0:\n",
    "        print(f'Epoch : {i}, Loss : {loss}')\n",
    "\n",
    "    # Do some back propagation : take the error rate of forward propagation and geed it back thru the network to fine tune the weights\n",
    "    \n",
    "    optimizer.zero_grad()\n",
    "    loss.backward()\n",
    "    optimizer.step()"
   ]
  },
  {
   "cell_type": "code",
   "execution_count": 20,
   "id": "0bb485dc-ecba-419b-adfa-c7f8e7318e24",
   "metadata": {},
   "outputs": [
    {
     "data": {
      "text/plain": [
       "Text(0.5, 0, 'Epoch')"
      ]
     },
     "execution_count": 20,
     "metadata": {},
     "output_type": "execute_result"
    },
    {
     "data": {
      "image/png": "[encoded data removed]",
      "text/plain": [
       "<Figure size 640x480 with 1 Axes>"
      ]
     },
     "metadata": {},
     "output_type": "display_data"
    }
   ],
   "source": [
    "# Graph it out\n",
    "plt.plot(range(epochs),losses)\n",
    "plt.ylabel(\"Loss/Error\")\n",
    "plt.xlabel(\"Epoch\")"
   ]
  },
  {
   "cell_type": "code",
   "execution_count": 21,
   "id": "8f43755e-e8d0-4c65-a873-c0764096603c",
   "metadata": {},
   "outputs": [
    {
     "data": {
      "text/plain": [
       "tensor(0.1295)"
      ]
     },
     "execution_count": 21,
     "metadata": {},
     "output_type": "execute_result"
    }
   ],
   "source": [
    "# Evaluate Model on Test Data Set (validate mdoel on test set)\n",
    "with torch.no_grad(): # Basically turn off back propagation so model does not learn\n",
    "    y_eval = model.forward(X_test) # X_test are features from our test_set, y_eval will be\n",
    "    loss = criterion(y_eval,y_test) # Find Loss or Error\n",
    "\n",
    "loss"
   ]
  },
  {
   "cell_type": "code",
   "execution_count": 25,
   "id": "b990b803-19fe-414e-ac6e-48435bca7a13",
   "metadata": {},
   "outputs": [
    {
     "name": "stdout",
     "output_type": "stream",
     "text": [
      "1. tensor([0.0000, 7.4447, 9.9152])\t2 \t 2\n",
      "2. tensor([ 0.0000,  7.7042, 14.3743])\t2 \t 2\n",
      "3. tensor([ 0.0000,  9.1280, 15.1753])\t2 \t 2\n",
      "4. tensor([0.2102, 8.3280, 4.5364])\t1 \t 1\n",
      "5. tensor([ 0.0000,  8.4035, 12.4779])\t2 \t 2\n",
      "6. tensor([1.6255, 8.0527, 1.9799])\t1 \t 1\n",
      "7. tensor([0.0000, 8.0659, 9.2757])\t2 \t 2\n",
      "8. tensor([0.3294, 8.4105, 4.3070])\t1 \t 1\n",
      "9. tensor([ 0.0000,  8.2367, 10.8423])\t2 \t 2\n",
      "10. tensor([ 0.0000,  8.1941, 15.2505])\t2 \t 2\n",
      "11. tensor([0.0000, 7.9806, 8.7350])\t2 \t 2\n",
      "12. tensor([8.9715, 3.4637, 0.0000])\t0 \t 0\n",
      "13. tensor([8.0554, 3.1741, 0.0000])\t0 \t 0\n",
      "14. tensor([2.2377, 6.4805, 0.4353])\t1 \t 1\n",
      "15. tensor([8.0202, 3.9148, 0.0000])\t0 \t 0\n",
      "16. tensor([0.0000, 8.1254, 8.0101])\t2 \t 1\n",
      "17. tensor([8.3626, 3.3009, 0.0000])\t0 \t 0\n",
      "18. tensor([0.0000, 7.6349, 9.5548])\t1 \t 2\n",
      "19. tensor([8.9383, 3.4532, 0.0000])\t0 \t 0\n",
      "20. tensor([7.5003, 3.3025, 0.0000])\t0 \t 0\n",
      "21. tensor([1.9760, 7.0980, 1.0766])\t1 \t 1\n",
      "22. tensor([ 0.0000,  8.4465, 14.0281])\t2 \t 2\n",
      "23. tensor([8.1228, 3.8523, 0.0000])\t0 \t 0\n",
      "24. tensor([8.5193, 3.3207, 0.0000])\t0 \t 0\n",
      "25. tensor([2.1818, 7.3382, 0.9439])\t1 \t 1\n",
      "26. tensor([1.5164, 7.7569, 1.9648])\t1 \t 1\n",
      "27. tensor([0.0574, 8.6209, 5.0719])\t1 \t 1\n",
      "28. tensor([1.7819, 7.5184, 1.5399])\t1 \t 1\n",
      "29. tensor([8.8647, 3.4299, 0.0000])\t0 \t 0\n",
      "30. tensor([0.0000, 8.2085, 5.3598])\t1 \t 1\n",
      "We got 28 Correct\n"
     ]
    }
   ],
   "source": [
    "correct = 0\n",
    "\n",
    "with torch.no_grad():\n",
    "    for i, data in enumerate(X_test):\n",
    "        y_val = model.forward(data)\n",
    "\n",
    "        # will tell us what type of flower class our network thinks it is\n",
    "        print(f\"{i+1}. {str(y_val)}\\t{y_test[i]} \\t {y_val.argmax().item()}\")\n",
    "\n",
    "        # Correct or not\n",
    "        if y_val.argmax().item() == y_test[i]:\n",
    "            correct +=1\n",
    "print(f\"We got {correct} Correct\")"
   ]
  },
  {
   "cell_type": "code",
   "execution_count": 26,
   "id": "d6c149c6-ea4e-4f24-8fed-9168ee6d2384",
   "metadata": {},
   "outputs": [],
   "source": [
    "# highest number here is what our network thinks the flower is"
   ]
  },
  {
   "cell_type": "code",
   "execution_count": 27,
   "id": "c1ed37da-2020-4b0d-85f5-22c948b09c9d",
   "metadata": {},
   "outputs": [],
   "source": [
    "# How to test a new data point with model\n",
    "\n",
    "new_iris = torch.tensor([4.7,3.2,1.3,0.1])"
   ]
  },
  {
   "cell_type": "code",
   "execution_count": 28,
   "id": "0f935fa0-b68b-4370-bde9-3238f2633b04",
   "metadata": {},
   "outputs": [
    {
     "name": "stdout",
     "output_type": "stream",
     "text": [
      "tensor([8.5531, 3.3314, 0.0000])\n"
     ]
    }
   ],
   "source": [
    "with torch.no_grad():\n",
    "    print(model(new_iris))"
   ]
  },
  {
   "cell_type": "code",
   "execution_count": 30,
   "id": "6a988a78-46bf-40e6-b6bc-841ab5d9176c",
   "metadata": {},
   "outputs": [
    {
     "name": "stdout",
     "output_type": "stream",
     "text": [
      "tensor([ 0.0000,  7.5979, 10.1487])\n"
     ]
    }
   ],
   "source": [
    "newer_iris = torch.tensor([5.9,3.0,5.1,1.8])\n",
    "\n",
    "with torch.no_grad():\n",
    "    print(model(newer_iris))"
   ]
  },
  {
   "cell_type": "code",
   "execution_count": 31,
   "id": "a6986f9c-4cff-4fcf-9c72-e8dd53f0c3ff",
   "metadata": {},
   "outputs": [],
   "source": [
    "# Save our NN Model\n",
    "\n",
    "torch.save(model.state_dict(),'iris_nn_model.pt')"
   ]
  },
  {
   "cell_type": "code",
   "execution_count": 32,
   "id": "fc89aa75-4606-468c-98f8-28fc99fdd35e",
   "metadata": {},
   "outputs": [
    {
     "name": "stderr",
     "output_type": "stream",
     "text": [
      "C:\\Users\\Ryanu\\AppData\\Local\\Temp\\ipykernel_35184\\3278098716.py:4: FutureWarning: You are using `torch.load` with `weights_only=False` (the current default value), which uses the default pickle module implicitly. It is possible to construct malicious pickle data which will execute arbitrary code during unpickling (See https://github.com/pytorch/pytorch/blob/main/SECURITY.md#untrusted-models for more details). In a future release, the default value for `weights_only` will be flipped to `True`. This limits the functions that could be executed during unpickling. Arbitrary objects will no longer be allowed to be loaded via this mode unless they are explicitly allowlisted by the user via `torch.serialization.add_safe_globals`. We recommend you start setting `weights_only=True` for any use case where you don't have full control of the loaded file. Please open an issue on GitHub for any issues related to this experimental feature.\n",
      "  new_model.load_state_dict(torch.load('iris_nn_model.pt'))\n"
     ]
    },
    {
     "data": {
      "text/plain": [
       "<All keys matched successfully>"
      ]
     },
     "execution_count": 32,
     "metadata": {},
     "output_type": "execute_result"
    }
   ],
   "source": [
    "# Load the movel\n",
    "\n",
    "new_model = Model()\n",
    "new_model.load_state_dict(torch.load('iris_nn_model.pt'))"
   ]
  },
  {
   "cell_type": "code",
   "execution_count": 33,
   "id": "bc497fb2-fa87-4b8f-8632-6bf53dece026",
   "metadata": {},
   "outputs": [
    {
     "data": {
      "text/plain": [
       "Model(\n",
       "  (fc1): Linear(in_features=4, out_features=8, bias=True)\n",
       "  (fc2): Linear(in_features=8, out_features=9, bias=True)\n",
       "  (out): Linear(in_features=9, out_features=3, bias=True)\n",
       ")"
      ]
     },
     "execution_count": 33,
     "metadata": {},
     "output_type": "execute_result"
    }
   ],
   "source": [
    "# Make sure it is loaded correctly\n",
    "\n",
    "new_model.eval()"
   ]
  },
  {
   "cell_type": "code",
   "execution_count": null,
   "id": "ad16f7d0-30df-497e-b70f-d5b27b93e499",
   "metadata": {},
   "outputs": [],
   "source": []
  }
 ],
 "metadata": {
  "kernelspec": {
   "display_name": "Python 3 (ipykernel)",
   "language": "python",
   "name": "python3"
  },
  "language_info": {
   "codemirror_mode": {
    "name": "ipython",
    "version": 3
   },
   "file_extension": ".py",
   "mimetype": "text/x-python",
   "name": "python",
   "nbconvert_exporter": "python",
   "pygments_lexer": "ipython3",
   "version": "3.12.3"
  }
 },
 "nbformat": 4,
 "nbformat_minor": 5
}
